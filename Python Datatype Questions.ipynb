{
 "cells": [
  {
   "cell_type": "markdown",
   "id": "70484243",
   "metadata": {},
   "source": [
    "### Q-1 \n",
    "\n",
    "### l=['a','quick','brown','fox','jumps','over','the','lazy','dog']\n",
    "### 1) arrange the list in alphabetical order \n",
    "### 2) count the total letters and count of distinct letters in the list "
   ]
  },
  {
   "cell_type": "code",
   "execution_count": 3,
   "id": "349d6e0c",
   "metadata": {},
   "outputs": [
    {
     "data": {
      "text/plain": [
       "['a', 'brown', 'dog', 'fox', 'jumps', 'lazy', 'over', 'quick', 'the']"
      ]
     },
     "execution_count": 3,
     "metadata": {},
     "output_type": "execute_result"
    }
   ],
   "source": [
    "# 1.\n",
    "l=['a','quick','brown','fox','jumps','over','the','lazy','dog']\n",
    "(l.sort())\n",
    "l"
   ]
  },
  {
   "cell_type": "code",
   "execution_count": 5,
   "id": "0c6627e9",
   "metadata": {},
   "outputs": [
    {
     "name": "stdout",
     "output_type": "stream",
     "text": [
      "a 2,b 1,c 1,d 1,e 2,f 1,g 1,h 1,i 1,j 1,k 1,l 1,m 1,n 1,o 4,p 1,q 1,r 2,s 1,t 1,u 2,v 1,w 1,x 1,y 1,z 1,\n",
      "Total no. of letters= 33\n"
     ]
    }
   ],
   "source": [
    "# 2\n",
    "z=0\n",
    "l=['a','quick','brown','fox','jumps','over','the','lazy','dog']\n",
    "b=\"\".join(l)\n",
    "# print(b)\n",
    "t=set(b)\n",
    "# print(t)\n",
    "x=list(t)\n",
    "# print(x)\n",
    "x.sort()\n",
    "x\n",
    "for i in x:\n",
    "    print(i,b.count(i),end=\",\")\n",
    "for j in l:\n",
    "    y=len(j)\n",
    "    z=z+y\n",
    "print(\"\\nTotal no. of letters=\",z)"
   ]
  },
  {
   "cell_type": "markdown",
   "id": "b6b17fc9",
   "metadata": {},
   "source": [
    "### Q-2\n",
    "Take a list containg only strings. Now, take a string input from user and rearrange the elements of the list according to the number of occurence of the string taken from user in the elements of the list.\n",
    "E.g.-\n",
    "\n",
    "LIST : [\"no bun\",\"bug bun bug bun bug bug\",\"bunny bug\",\"buggy bug bug buggy\"]\n",
    "\n",
    "\n",
    "\n",
    "STRING TAKEN : \"bug\"\n",
    "\n",
    "\n",
    "OUTPUT LIST:[\"bug bun bug bun bug bug\",\"buggy bug bug buggy\",\"bunny bug\",\"no bun\"]\n"
   ]
  },
  {
   "cell_type": "code",
   "execution_count": 24,
   "id": "495f6bb4",
   "metadata": {},
   "outputs": [
    {
     "name": "stdout",
     "output_type": "stream",
     "text": [
      "['bug bun bug bun bug bug', 'buggy bug bug buggy', 'bunny bug', 'no bun']\n"
     ]
    }
   ],
   "source": [
    "l=[\"no bun\",\"bug bun bug bun bug bug\",\"bunny bug\",\"buggy bug bug buggy\"]\n",
    "a=sorted(l)\n",
    "print(a)"
   ]
  },
  {
   "cell_type": "markdown",
   "id": "d3457739",
   "metadata": {},
   "source": [
    "## Q-3 u need to lower all the characters in the given string   s = \"A man, A plan, A goodman:\" and remove all non-alphanumeric characters from the string and check after removing if the string is palindrome or not."
   ]
  },
  {
   "cell_type": "code",
   "execution_count": 19,
   "id": "79ab5d07",
   "metadata": {},
   "outputs": [
    {
     "name": "stdout",
     "output_type": "stream",
     "text": [
      "a man, a plan, a goodman:\n",
      "amanaplanagoodman\n",
      "Not Palindrom:\n"
     ]
    }
   ],
   "source": [
    "x=''\n",
    "s = \"A man, A plan, A goodman:\"\n",
    "l=s.lower()\n",
    "print(l)\n",
    "for i in l:\n",
    "    if i.isalnum():\n",
    "        x=x+i\n",
    "print(x)\n",
    "if x==x[::-1]:\n",
    "    print(\"Palindrom:\")\n",
    "else:\n",
    "    print(\"Not Palindrom:\")"
   ]
  },
  {
   "cell_type": "markdown",
   "id": "afbbbf27",
   "metadata": {},
   "source": [
    "### Q-4\n",
    "\n",
    "### a) wap  to remove punctuation mark from list of string using list comprehension\n",
    "l=[\"hello'\",\"1'2\",\"22'4\",\"hi how'r u\"]\n",
    "\n",
    "## b) Use a list comprehension to square each odd number in a list. The list is input by a sequence of comma-separated numbers.\n",
    "Suppose the input is supplied to the program: 1,2,3,4,5,6,7,8,9\n",
    "Then, the output should be: 1, 9, 25, 49, 81 \n",
    "\n"
   ]
  },
  {
   "cell_type": "code",
   "execution_count": 6,
   "id": "d921330b",
   "metadata": {},
   "outputs": [
    {
     "data": {
      "text/plain": [
       "['hello', '12', '224', 'hi howr u']"
      ]
     },
     "execution_count": 6,
     "metadata": {},
     "output_type": "execute_result"
    }
   ],
   "source": [
    "l=[\"hello'\",\"1'2\",\"22'4\",\"hi how'r u\"]\n",
    "a=[i.replace(\"'\",\"\") for i in l]\n",
    "a"
   ]
  },
  {
   "cell_type": "code",
   "execution_count": 21,
   "id": "3b903c31",
   "metadata": {},
   "outputs": [
    {
     "data": {
      "text/plain": [
       "[1, 9, 25, 49, 81]"
      ]
     },
     "execution_count": 21,
     "metadata": {},
     "output_type": "execute_result"
    }
   ],
   "source": [
    "# 2\n",
    "l=1,2,3,4,5,6,7,8,9\n",
    "a=[i*i for i in l if i%2!=0]\n",
    "a"
   ]
  },
  {
   "cell_type": "markdown",
   "id": "b899fef5",
   "metadata": {},
   "source": [
    "### Q-5\n",
    "\n",
    "### Find Longest String in List\n",
    "l=[\"hello\",\"madrid\",\"hi how r u\",\"i m doing good u tell\",\"meet\"]"
   ]
  },
  {
   "cell_type": "code",
   "execution_count": 16,
   "id": "2fbdd73b",
   "metadata": {},
   "outputs": [
    {
     "name": "stdout",
     "output_type": "stream",
     "text": [
      "i m doing good u tell\n"
     ]
    }
   ],
   "source": [
    "x=0\n",
    "l=[\"hello\",\"madrid\",\"hi how r u\",\"i m doing good u tell\",\"meet\"]\n",
    "for i in l:\n",
    "    a=len(i)\n",
    "    if a>x:\n",
    "        b=i\n",
    "        x=a\n",
    "print(b)"
   ]
  },
  {
   "cell_type": "code",
   "execution_count": 7,
   "id": "b10ec5c2",
   "metadata": {},
   "outputs": [
    {
     "name": "stdout",
     "output_type": "stream",
     "text": [
      "meet\n"
     ]
    }
   ],
   "source": [
    "l=[\"hello\",\"madrid\",\"hi how r u\",\"i m doing good u tell\",\"meet\"]\n",
    "print(max(l))"
   ]
  },
  {
   "cell_type": "markdown",
   "id": "891150f6",
   "metadata": {},
   "source": [
    "### Q-6\n",
    "\n",
    "### Display the characters at an odd position in string input by User."
   ]
  },
  {
   "cell_type": "code",
   "execution_count": 8,
   "id": "9ba1258f",
   "metadata": {},
   "outputs": [
    {
     "name": "stdout",
     "output_type": "stream",
     "text": [
      "Enter Any String=madrid\n",
      "ard\n"
     ]
    }
   ],
   "source": [
    "x=input(\"Enter Any String=\")\n",
    "print(x[1::2])"
   ]
  },
  {
   "cell_type": "markdown",
   "id": "4f01e850",
   "metadata": {},
   "source": [
    "### Q-7\n",
    "\n",
    "### Extract file name in this  /document/imp/salary.txt\n"
   ]
  },
  {
   "cell_type": "code",
   "execution_count": 8,
   "id": "f9e2eb76",
   "metadata": {},
   "outputs": [
    {
     "data": {
      "text/plain": [
       "'salary'"
      ]
     },
     "execution_count": 8,
     "metadata": {},
     "output_type": "execute_result"
    }
   ],
   "source": [
    "a=\"this /document/imp/salary.txt\"\n",
    "b=a.split(\"/\")\n",
    "b\n",
    "s=b[3].split(\".\")\n",
    "s[0]"
   ]
  },
  {
   "cell_type": "markdown",
   "id": "324c2cc9",
   "metadata": {},
   "source": [
    "### Q-8\n",
    "### Write a program which accepts a sequence of comma-separated numbers from console and generate a list and a tuple which contains every number.\n",
    "Suppose the input is supplied to the program: 34, 67, 55, 33, 12, 98\n",
    "\n",
    "\n",
    "Then, the output should be:\n",
    "\n",
    "\n",
    "['34', '67', '55', '33', '12', '98'] and ('34', '67', '55', '33', '12', '98')\n"
   ]
  },
  {
   "cell_type": "code",
   "execution_count": 37,
   "id": "091f360f",
   "metadata": {},
   "outputs": [
    {
     "name": "stdout",
     "output_type": "stream",
     "text": [
      "['34', '67', '55', '33', '12', '98']\n",
      "('34', '67', '55', '33', '12', '98')\n"
     ]
    }
   ],
   "source": [
    "l=[]\n",
    "a=34, 67, 55, 33, 12, 98\n",
    "for i in a:\n",
    "    x=str(i)\n",
    "    l.append(x)\n",
    "print(l)\n",
    "print(tuple(l))"
   ]
  },
  {
   "cell_type": "markdown",
   "id": "dc2e0c2d",
   "metadata": {},
   "source": [
    "### Q-9\n",
    "\n",
    "### Write a program to display second largest element of the list entered by user "
   ]
  },
  {
   "cell_type": "code",
   "execution_count": 45,
   "id": "4b42eb87",
   "metadata": {},
   "outputs": [
    {
     "name": "stdout",
     "output_type": "stream",
     "text": [
      "How Many Munbers Are You Enter=5\n",
      "Enter Element1=4\n",
      "Enter Element2=7\n",
      "Enter Element3=5\n",
      "Enter Element4=8\n",
      "Enter Element5=14\n",
      "[4, 5, 7, 8, 14]\n",
      "Second Largest Element in the List= 8\n"
     ]
    }
   ],
   "source": [
    "l=[]\n",
    "w=1\n",
    "n=int(input(\"How Many Munbers Are You Enter=\"))\n",
    "for i in range(1,n+1):\n",
    "    x=int(input(\"Enter Element \"+str(w)+\" =\"))\n",
    "    w=w+1\n",
    "    l.append(x)\n",
    "a=sorted(l)\n",
    "print(a)\n",
    "print(\"Second Largest Element in the List=\",a[-2])"
   ]
  },
  {
   "cell_type": "markdown",
   "id": "ac3570f6",
   "metadata": {},
   "source": [
    "### Q-10\n",
    "\n",
    "### Write a program to display the most, second most and least frequent word of the list\n",
    "\n",
    "l=[\"abc\",\"bac\",\"abc\",\"abb\",\"abb\",\"abb\"]"
   ]
  },
  {
   "cell_type": "code",
   "execution_count": 10,
   "id": "fe8c19a3",
   "metadata": {},
   "outputs": [
    {
     "name": "stdout",
     "output_type": "stream",
     "text": [
      "[('bac', 1), ('abc', 2), ('abb', 3)]\n",
      "Least Frequent Word= bac\n",
      "Second Most Frequent Word= abc\n",
      "Most Frequent Word= abb\n"
     ]
    }
   ],
   "source": [
    "l=[\"abc\",\"bac\",\"abc\",\"abb\",\"abb\",\"abb\"]\n",
    "from collections import Counter\n",
    "a=(Counter(l))\n",
    "# print(a)\n",
    "b=(sorted(a.items(),reverse=True))\n",
    "# print(b)\n",
    "print(\"Least Frequent Word=\",b[0][0])\n",
    "print(\"Second Most Frequent Word=\",b[-2][0])\n",
    "print(\"Most Frequent Word=\",b[-1][0])"
   ]
  },
  {
   "cell_type": "markdown",
   "id": "785428f2",
   "metadata": {},
   "source": [
    "### Q-11\n",
    "### Write a program that calculates and prints the value according to the given formula:\n",
    "Q = Square root of [(2 * C * D)/H]\n",
    "\n",
    "\n",
    "Following are the fixed values of C and H: C is 50. H is 30.\n"
   ]
  },
  {
   "cell_type": "code",
   "execution_count": 4,
   "id": "df6de49d",
   "metadata": {},
   "outputs": [
    {
     "name": "stdout",
     "output_type": "stream",
     "text": [
      "Enter The Value Of D=50\n",
      "12.909944487358056\n"
     ]
    }
   ],
   "source": [
    "from math import sqrt\n",
    "d=int(input(\"Enter The Value Of D=\"))\n",
    "a=(2*50*d)/30\n",
    "print(sqrt(a))"
   ]
  },
  {
   "cell_type": "markdown",
   "id": "906e1c32",
   "metadata": {},
   "source": [
    "### Q-12\n",
    "### wap to place \"hello\" at even index of string.\n",
    "\n",
    "eg: string :  \"madrid\"\n",
    "\n",
    "output:    helloahellorhellod"
   ]
  },
  {
   "cell_type": "code",
   "execution_count": 63,
   "id": "f166a33d",
   "metadata": {},
   "outputs": [
    {
     "name": "stdout",
     "output_type": "stream",
     "text": [
      "[1, 3, 5]\n"
     ]
    },
    {
     "data": {
      "text/plain": [
       "'helloahellorhellod'"
      ]
     },
     "execution_count": 63,
     "metadata": {},
     "output_type": "execute_result"
    }
   ],
   "source": [
    "n=[]\n",
    "z=''\n",
    "a=\"madrid\"\n",
    "l=len(a)\n",
    "for i in range(6):\n",
    "    if i%2!=0:\n",
    "        n.append(i)\n",
    "print(n)\n",
    "for i in n:\n",
    "    z=z+\"hello\"+a[i]\n",
    "z"
   ]
  },
  {
   "cell_type": "markdown",
   "id": "ed4d7f85",
   "metadata": {},
   "source": [
    "### Q-13\n",
    "## Write a program that accepts a sequence of whitespace separated words as input and prints the words after removing all duplicate words and sorting them alphanumerically.\n",
    "Suppose the input is supplied to the program: hello world and practice makes perfect and hello world again\n"
   ]
  },
  {
   "cell_type": "code",
   "execution_count": 6,
   "id": "e202069d",
   "metadata": {},
   "outputs": [
    {
     "name": "stdout",
     "output_type": "stream",
     "text": [
      "How many words are you enter=4\n",
      "Enter Word 1=efgt\n",
      "Enter Word 2=dgtr\n",
      "Enter Word 3=frtr\n",
      "Enter Word 4=dfvt\n",
      "['efgt', ' ', 'dgtr', ' ', 'frtr', ' ', 'dfvt', ' ']\n",
      "{' ', 'dfvt', 'frtr', 'efgt', 'dgtr'}\n",
      "[' ', 'dfvt', 'dgtr', 'efgt', 'frtr']\n"
     ]
    }
   ],
   "source": [
    "w=1\n",
    "a=[]\n",
    "n=int(input(\"How many words are you enter=\"))\n",
    "for i in range(1,n+1):\n",
    "    b=input(\"Enter Word \"+str(w)+\"=\")\n",
    "    a.append(b)\n",
    "    x=' '\n",
    "    a.append(x)\n",
    "    w=w+1\n",
    "print(a)\n",
    "t=set(a)\n",
    "print(t)\n",
    "s=sorted(list(t))\n",
    "print(s)"
   ]
  },
  {
   "cell_type": "code",
   "execution_count": 22,
   "id": "7ac11c36",
   "metadata": {},
   "outputs": [
    {
     "name": "stdout",
     "output_type": "stream",
     "text": [
      "[' ', '1', '3', '4', '5', 'a', 'b', 'c', 'd', 'e', 'f', 'g', 'h', 'i', 'j', 'k', 'l', 'm', 'n', 'o', 'p', 'q', 'r', 's', 't', 'u', 'v', 'w', 'x', 'y', 'z']\n"
     ]
    }
   ],
   "source": [
    "l=\"a quick brown fox jumps over 1 3 4 5  the lazy dogs\"\n",
    "b=list(l)\n",
    "s=set(b)\n",
    "# print(s)\n",
    "x=sorted(list(s))\n",
    "print(x)\n",
    "# a=l.split()\n",
    "# a"
   ]
  },
  {
   "cell_type": "markdown",
   "id": "698f6591",
   "metadata": {},
   "source": []
  },
  {
   "cell_type": "markdown",
   "id": "0cb01fdf",
   "metadata": {},
   "source": [
    "## Q-14\n",
    "#### You are required to write a program to sort the (name, age, score) tuples by ascending order where name is string, age and height are numbers. The tuples are input by console. The sort criteria is: \n",
    "1: Sort based on name; \n",
    "2: Then sort based on age; \n",
    "3: Then sort by score. \n",
    "\n",
    " \n",
    "The priority is that name > age > score. \n",
    "\n",
    "\n",
    "If the following tuples are given as input to the program: \n",
    "\n",
    "\n",
    "Tom,19,80 \n",
    "\n",
    "John,20,90 \n",
    "\n",
    "Jony,17,91\n",
    "\n",
    "Jony,17,93 \n",
    "\n",
    "Json,21,85 \n",
    "\n",
    "\n",
    "Then, the output of the program should be: \n",
    "[('John', '20', '90'), ('Jony', '17', '91'), ('Jony', '17', '93'), ('Json', '21', '85'), ('Tom', '19', '80')] \n",
    " "
   ]
  },
  {
   "cell_type": "code",
   "execution_count": 6,
   "id": "a98b30d0",
   "metadata": {},
   "outputs": [
    {
     "data": {
      "text/plain": [
       "[('John', '20', '90'),\n",
       " ('Jony', '17', '91'),\n",
       " ('Jony', '17', '93'),\n",
       " ('Json', '21', '85'),\n",
       " ('Tom', '19', '80')]"
      ]
     },
     "execution_count": 6,
     "metadata": {},
     "output_type": "execute_result"
    }
   ],
   "source": [
    "a=[('Tom', '19', '80'),('John', '20', '90'), ('Jony', '17', '91'), ('Jony', '17', '93'), ('Json', '21', '85')]\n",
    "sorted(a)"
   ]
  },
  {
   "cell_type": "markdown",
   "id": "32846720",
   "metadata": {},
   "source": [
    "## Q-15 Arrange the string such that lowercases should come first. Eg: MadrID – adrIDM"
   ]
  },
  {
   "cell_type": "code",
   "execution_count": 62,
   "id": "6eb03756",
   "metadata": {},
   "outputs": [
    {
     "name": "stdout",
     "output_type": "stream",
     "text": [
      "adrIDM\n"
     ]
    }
   ],
   "source": [
    "a=\"MadrID\"\n",
    "b=a[0]\n",
    "# print(b)\n",
    "d=a[1:]\n",
    "# print(d)\n",
    "print(d+b)"
   ]
  }
 ],
 "metadata": {
  "kernelspec": {
   "display_name": "Python 3 (ipykernel)",
   "language": "python",
   "name": "python3"
  },
  "language_info": {
   "codemirror_mode": {
    "name": "ipython",
    "version": 3
   },
   "file_extension": ".py",
   "mimetype": "text/x-python",
   "name": "python",
   "nbconvert_exporter": "python",
   "pygments_lexer": "ipython3",
   "version": "3.9.12"
  }
 },
 "nbformat": 4,
 "nbformat_minor": 5
}
